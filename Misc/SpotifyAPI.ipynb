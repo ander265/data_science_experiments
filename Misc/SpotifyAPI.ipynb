{
 "cells": [
  {
   "cell_type": "code",
   "execution_count": 49,
   "metadata": {},
   "outputs": [],
   "source": [
    "import sys\n",
    "import spotipy\n",
    "import spotipy.util as util"
   ]
  },
  {
   "cell_type": "code",
   "execution_count": 50,
   "metadata": {},
   "outputs": [
    {
     "ename": "SyntaxError",
     "evalue": "invalid syntax (<ipython-input-50-a831d8ad8c43>, line 1)",
     "output_type": "error",
     "traceback": [
      "\u001b[0;36m  File \u001b[0;32m\"<ipython-input-50-a831d8ad8c43>\"\u001b[0;36m, line \u001b[0;32m1\u001b[0m\n\u001b[0;31m    export SPOTIPY_CLIENT_ID = 'e99baf9e55d640fba998e395afcabed1'\u001b[0m\n\u001b[0m                           ^\u001b[0m\n\u001b[0;31mSyntaxError\u001b[0m\u001b[0;31m:\u001b[0m invalid syntax\n"
     ]
    }
   ],
   "source": [
    "#export SPOTIPY_CLIENT_ID = 'e99baf9e55d640fba998e395afcabed1'"
   ]
  },
  {
   "cell_type": "code",
   "execution_count": 51,
   "metadata": {},
   "outputs": [],
   "source": [
    "spotify = spotipy.Spotify()\n"
   ]
  },
  {
   "cell_type": "code",
   "execution_count": 52,
   "metadata": {},
   "outputs": [],
   "source": [
    "from spotipy.oauth2 import SpotifyClientCredentials"
   ]
  },
  {
   "cell_type": "code",
   "execution_count": 47,
   "metadata": {},
   "outputs": [
    {
     "ename": "SpotifyOauthError",
     "evalue": "No client secret",
     "output_type": "error",
     "traceback": [
      "\u001b[0;31m--------------------------------------------------------\u001b[0m",
      "\u001b[0;31mSpotifyOauthError\u001b[0m      Traceback (most recent call last)",
      "\u001b[0;32m<ipython-input-47-8cfc5ede6574>\u001b[0m in \u001b[0;36m<module>\u001b[0;34m()\u001b[0m\n\u001b[1;32m      1\u001b[0m \u001b[0;34m\u001b[0m\u001b[0m\n\u001b[0;32m----> 2\u001b[0;31m \u001b[0mclient_credentials_manager\u001b[0m \u001b[0;34m=\u001b[0m \u001b[0mSpotifyClientCredentials\u001b[0m\u001b[0;34m(\u001b[0m\u001b[0;34m'248b6d4582bb46e0afb611c186cdf657'\u001b[0m\u001b[0;34m)\u001b[0m\u001b[0;34m\u001b[0m\u001b[0m\n\u001b[0m\u001b[1;32m      3\u001b[0m \u001b[0msp\u001b[0m \u001b[0;34m=\u001b[0m \u001b[0mspotipy\u001b[0m\u001b[0;34m.\u001b[0m\u001b[0mSpotify\u001b[0m\u001b[0;34m(\u001b[0m\u001b[0mclient_credentials_manager\u001b[0m\u001b[0;34m=\u001b[0m\u001b[0mclient_credentials_manager\u001b[0m\u001b[0;34m)\u001b[0m\u001b[0;34m\u001b[0m\u001b[0m\n\u001b[1;32m      4\u001b[0m \u001b[0;34m\u001b[0m\u001b[0m\n\u001b[1;32m      5\u001b[0m \u001b[0mplaylists\u001b[0m \u001b[0;34m=\u001b[0m \u001b[0msp\u001b[0m\u001b[0;34m.\u001b[0m\u001b[0muser_playlists\u001b[0m\u001b[0;34m(\u001b[0m\u001b[0;34m'spotify'\u001b[0m\u001b[0;34m)\u001b[0m\u001b[0;34m\u001b[0m\u001b[0m\n",
      "\u001b[0;32m~/anaconda3/lib/python3.6/site-packages/spotipy/oauth2.py\u001b[0m in \u001b[0;36m__init__\u001b[0;34m(self, client_id, client_secret, proxies)\u001b[0m\n\u001b[1;32m     40\u001b[0m \u001b[0;34m\u001b[0m\u001b[0m\n\u001b[1;32m     41\u001b[0m         \u001b[0;32mif\u001b[0m \u001b[0;32mnot\u001b[0m \u001b[0mclient_secret\u001b[0m\u001b[0;34m:\u001b[0m\u001b[0;34m\u001b[0m\u001b[0m\n\u001b[0;32m---> 42\u001b[0;31m             \u001b[0;32mraise\u001b[0m \u001b[0mSpotifyOauthError\u001b[0m\u001b[0;34m(\u001b[0m\u001b[0;34m'No client secret'\u001b[0m\u001b[0;34m)\u001b[0m\u001b[0;34m\u001b[0m\u001b[0m\n\u001b[0m\u001b[1;32m     43\u001b[0m \u001b[0;34m\u001b[0m\u001b[0m\n\u001b[1;32m     44\u001b[0m         \u001b[0mself\u001b[0m\u001b[0;34m.\u001b[0m\u001b[0mclient_id\u001b[0m \u001b[0;34m=\u001b[0m \u001b[0mclient_id\u001b[0m\u001b[0;34m\u001b[0m\u001b[0m\n",
      "\u001b[0;31mSpotifyOauthError\u001b[0m: No client secret"
     ]
    }
   ],
   "source": []
  },
  {
   "cell_type": "code",
   "execution_count": 55,
   "metadata": {},
   "outputs": [
    {
     "data": {
      "text/plain": [
       "'BQACWTcc7jvrkMZcWhMKCzbIMLHC6sQ6vqC8fnSeVlUnRljWVjKuIzGSC05aRF7x4G1MUoLsEgP-PSgrFgWOqgsOlG61UZu1DjB87MF7n7QAXfVidt6PIQYikvIyiOJxMb1ZCdKd-TorYWLy5dLHm6mOBg'"
      ]
     },
     "execution_count": 55,
     "metadata": {},
     "output_type": "execute_result"
    }
   ],
   "source": [
    "username='lafinatchu'\n",
    "clnt_id = 'e99baf9e55d640fba998e395afcabed1'\n",
    "clnt_secret = '248b6d4582bb46e0afb611c186cdf657'\n",
    "\n",
    "token = util.prompt_for_user_token(username,\n",
    "                                    'user-top-read',\n",
    "                                    client_id=clnt_id,\n",
    "                                    client_secret=clnt_secret,\n",
    "                                  redirect_uri='http://localhost:8888/callback/')"
   ]
  },
  {
   "cell_type": "code",
   "execution_count": 75,
   "metadata": {},
   "outputs": [
    {
     "name": "stdout",
     "output_type": "stream",
     "text": [
      "Nine Inch Nails 65\n",
      "Queens of the Stone Age 69\n",
      "The Smashing Pumpkins 68\n",
      "Roxy Music 56\n",
      "Carpenter Brut 54\n",
      "BROCKHAMPTON 73\n",
      "Frank Ocean 79\n",
      "Death Grips 62\n",
      "Talk Talk 53\n",
      "My Bloody Valentine 48\n",
      "Kanye West 89\n",
      "Andrew W.K. 54\n",
      "Sparks 43\n",
      "Cocteau Twins 52\n",
      "Turnover 56\n",
      "Ween 56\n",
      "Tom Waits 58\n",
      "Ringo Deathstarr 30\n",
      "The Darkness 54\n",
      "Hookworms 37\n"
     ]
    }
   ],
   "source": [
    "#'BQAyk80zBuqlqGNikrqtYnIjQvvMdw5O55NrdOB89SCcH5bDas2c0l2RksVQk6_8Arhe04WcPRlZ7q3TKBZLKYTABYO6onffa83c7KpHTSFvDCGHRzDxPtxdZbBBx_invk1zuFndjZb3YULxCy9fj9F9gA'\n",
    "if token:\n",
    "    sp = spotipy.Spotify(auth=token)\n",
    "    results = sp.current_user_top_artists()\n",
    "    for item in results['items']:\n",
    "        artist = item['name'] + ' ' + str(item['popularity'])\n",
    "        print(artist)\n",
    "\n",
    "#results"
   ]
  },
  {
   "cell_type": "code",
   "execution_count": 85,
   "metadata": {},
   "outputs": [
    {
     "data": {
      "text/plain": [
       "'BQDvHv0ZbSfU5h3kyyOnYfsl8D_OcvqeqaQvSWDWh4rV8d6qsSYxOts4OgxvNZDv9nIdD-Clsf0lRyobZiL_3AG0I0f-j3M7bLAGUfOd_J3GKCmoyFVNwr_NhtYksLYQinyzCq04r6I6fprddRe-kDv7xlwkGoNWI9BOkEMVCyBBosvSBQ'"
      ]
     },
     "execution_count": 85,
     "metadata": {},
     "output_type": "execute_result"
    }
   ],
   "source": [
    "scope = 'playlist-modify-public'\n",
    "token2 = util.prompt_for_user_token(username, scope,\n",
    "                                    client_id=clnt_id,\n",
    "                                    client_secret=clnt_secret,\n",
    "                                  redirect_uri='http://localhost:8888/callback/')\n",
    "\n",
    "token2"
   ]
  }
 ],
 "metadata": {
  "kernelspec": {
   "display_name": "Python 3",
   "language": "python",
   "name": "python3"
  },
  "language_info": {
   "codemirror_mode": {
    "name": "ipython",
    "version": 3
   },
   "file_extension": ".py",
   "mimetype": "text/x-python",
   "name": "python",
   "nbconvert_exporter": "python",
   "pygments_lexer": "ipython3",
   "version": "3.6.5"
  }
 },
 "nbformat": 4,
 "nbformat_minor": 2
}
